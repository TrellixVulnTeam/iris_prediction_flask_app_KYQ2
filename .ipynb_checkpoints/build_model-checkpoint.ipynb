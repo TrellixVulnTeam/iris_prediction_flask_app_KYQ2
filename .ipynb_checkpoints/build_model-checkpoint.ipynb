{
 "cells": [
  {
   "cell_type": "markdown",
   "metadata": {},
   "source": [
    "# Overview of classfication alorithms for Iris dataset"
   ]
  },
  {
   "cell_type": "code",
   "execution_count": 1,
   "metadata": {
    "collapsed": true
   },
   "outputs": [],
   "source": [
    "from model.py import NBModel\n",
    "from sklearn.model_selection import train_test_split\n",
    "from sklearn.metrics import classification_report\n",
    "from sklearn.datasets import load_iris\n",
    "import argparse\n",
    "import pandas as pd"
   ]
  },
  {
   "cell_type": "code",
   "execution_count": null,
   "metadata": {
    "collapsed": true
   },
   "outputs": [],
   "source": [
    "def build_model():\n",
    "    model=NBModel()\n",
    "    # load the Iris dataset and perform a training and testing split,\n",
    "    # using 75% of the data for training and 25% for evaluation\n",
    "    print(\"[INFO] loading data...\")\n",
    "    dataset = load_iris()\n",
    "    (trainX, testX, trainY, testY) = train_test_split(dataset.data, dataset.target, random_state=3, test_size=0.25)\n",
    "    \n",
    "    # train the model\n",
    "    print(\"Training..\")\n",
    "    model.train(trainX, trainY)\n",
    "    print(\"Complete\")\n",
    "    \n",
    "    model.pickle_clf()\n",
    "    \n",
    "    # make predictions on our data and show a classification report\n",
    "    model.clf_report()\n",
    "    \n",
    "    \n",
    "if __name__==\"__main__\":\n",
    "    build_model()\n",
    "    "
   ]
  }
 ],
 "metadata": {
  "kernelspec": {
   "display_name": "Python [default]",
   "language": "python",
   "name": "python3"
  },
  "language_info": {
   "codemirror_mode": {
    "name": "ipython",
    "version": 3
   },
   "file_extension": ".py",
   "mimetype": "text/x-python",
   "name": "python",
   "nbconvert_exporter": "python",
   "pygments_lexer": "ipython3",
   "version": "3.6.2"
  }
 },
 "nbformat": 4,
 "nbformat_minor": 2
}
