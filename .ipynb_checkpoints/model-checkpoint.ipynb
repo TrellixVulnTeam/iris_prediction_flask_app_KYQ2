{
 "cells": [
  {
   "cell_type": "markdown",
   "metadata": {},
   "source": [
    "# Overview of classfication alorithms for Iris dataset"
   ]
  },
  {
   "cell_type": "code",
   "execution_count": 1,
   "metadata": {
    "collapsed": true
   },
   "outputs": [],
   "source": [
    "from sklearn.naive_bayes import GaussianNB\n",
    "from sklearn.metrics import classification_report\n",
    "import pandas as pd\n",
    "import pickle"
   ]
  },
  {
   "cell_type": "code",
   "execution_count": 6,
   "metadata": {},
   "outputs": [],
   "source": [
    "class NBModel(object):\n",
    "    \n",
    "    def __init__(self):\n",
    "        self.model=GaussianNB()\n",
    "\n",
    "    def train(self, X,y):\n",
    "        # train the model\n",
    "        print(\"Training  using Gaussian Naive Bayes model\")\n",
    "        model.fit(X, y)\n",
    "\n",
    "    def predict(self,X):\n",
    "        # make predictions on our data and show a classification report\n",
    "        print(\"[INFO] evaluating...\")\n",
    "        y_pred = self.model.predict(X)\n",
    "        return y_pred\n",
    "    \n",
    "    def pickle_clf(self,path='/nbclassifier.pkl'):\n",
    "        with open(path,'wb') as f:\n",
    "            pickle.dump(self.clf,f)\n",
    "            print('Pickled classifier at {}'.format(path))\n",
    "            \n",
    "    def clf_report(self,X,y):\n",
    "        print(\"[INFO] evaluating...\")\n",
    "        y_pred = model.predict(X)\n",
    "        print(classification_report(y, y_pred))\n",
    "\n",
    "        #print(classification_report(testY, predictions,target_names=dataset.target_names))"
   ]
  }
 ],
 "metadata": {
  "kernelspec": {
   "display_name": "Python [default]",
   "language": "python",
   "name": "python3"
  },
  "language_info": {
   "codemirror_mode": {
    "name": "ipython",
    "version": 3
   },
   "file_extension": ".py",
   "mimetype": "text/x-python",
   "name": "python",
   "nbconvert_exporter": "python",
   "pygments_lexer": "ipython3",
   "version": "3.6.2"
  }
 },
 "nbformat": 4,
 "nbformat_minor": 2
}
